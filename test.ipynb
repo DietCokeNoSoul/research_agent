{
 "cells": [
  {
   "cell_type": "code",
   "execution_count": 255,
   "id": "7d7d624c",
   "metadata": {},
   "outputs": [],
   "source": [
    "from langchain_openai import ChatOpenAI\n",
    "from langchain_core.messages import HumanMessage, SystemMessage\n",
    "\n",
    "llm = ChatOpenAI(\n",
    "    openai_api_base=\"http://localhost:11434/v1\",\n",
    "    openai_api_key=\"ollama\",\n",
    "    model=\"qwen3_lora_sft_supervisor_dpo\",\n",
    "    temperature=0.1,\n",
    ")"
   ]
  },
  {
   "cell_type": "code",
   "execution_count": 256,
   "id": "81e8a7ab",
   "metadata": {},
   "outputs": [],
   "source": [
    "responses = llm.invoke([SystemMessage(content=\"消息分类为 search、rag、chat、other 中的一类，只输出标签。\"), HumanMessage(content=\"找一篇文章，有关Transformer在图数据上的优化技术和多尺度邻居拓扑的技术，能帮忙找一下吗？\")])\n"
   ]
  },
  {
   "cell_type": "code",
   "execution_count": 257,
   "id": "9e71b624",
   "metadata": {},
   "outputs": [
    {
     "name": "stdout",
     "output_type": "stream",
     "text": [
      "search\n"
     ]
    }
   ],
   "source": [
    "response = responses.content.split(\"\\n\")[-1]\n",
    "print(response)"
   ]
  },
  {
   "cell_type": "code",
   "execution_count": 281,
   "id": "433f798f",
   "metadata": {},
   "outputs": [],
   "source": [
    "llm = ChatOpenAI(\n",
    "    openai_api_base=\"http://localhost:11434/v1\",\n",
    "    openai_api_key=\"ollama\",\n",
    "    model=\"qwen3_lora_sft_memory_q8_0\"\n",
    ")"
   ]
  },
  {
   "cell_type": "code",
   "execution_count": 291,
   "id": "b157da5b",
   "metadata": {},
   "outputs": [],
   "source": [
    "def get_long_memory(question: str) -> str:\n",
    "    response = llm.invoke([SystemMessage(content=\"判断下面用户问题是否存在可以作为长记忆的重要信息，如果有则提取关键信息（短句或关键词），否则返回<None>。\"), HumanMessage(content=question)])\n",
    "    response = response.content.split(\"\\n\")[-1]\n",
    "    if response == \"<None>\":\n",
    "        return \"\"\n",
    "    else:\n",
    "        return response"
   ]
  },
  {
   "cell_type": "code",
   "execution_count": 297,
   "id": "46343843",
   "metadata": {},
   "outputs": [],
   "source": [
    "responses = get_long_memory(\"我想找一篇文章，有关Transformer在图数据上的优化技术，应该是近两年的论文\")"
   ]
  },
  {
   "cell_type": "code",
   "execution_count": 298,
   "id": "380d2208",
   "metadata": {},
   "outputs": [
    {
     "name": "stdout",
     "output_type": "stream",
     "text": [
      "Transformer，图数据，优化技术，近两年\n"
     ]
    }
   ],
   "source": [
    "response = responses\n",
    "print(response)"
   ]
  }
 ],
 "metadata": {
  "kernelspec": {
   "display_name": ".venv",
   "language": "python",
   "name": "python3"
  },
  "language_info": {
   "codemirror_mode": {
    "name": "ipython",
    "version": 3
   },
   "file_extension": ".py",
   "mimetype": "text/x-python",
   "name": "python",
   "nbconvert_exporter": "python",
   "pygments_lexer": "ipython3",
   "version": "3.11.9"
  }
 },
 "nbformat": 4,
 "nbformat_minor": 5
}
