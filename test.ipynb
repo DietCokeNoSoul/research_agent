{
 "cells": [
  {
   "cell_type": "code",
   "execution_count": 55,
   "id": "7d7d624c",
   "metadata": {},
   "outputs": [],
   "source": [
    "from langchain_openai import ChatOpenAI\n",
    "from langchain_core.messages import HumanMessage, SystemMessage\n",
    "\n",
    "llm = ChatOpenAI(\n",
    "    openai_api_base=\"http://localhost:11434/v1\",\n",
    "    openai_api_key=\"ollama\",\n",
    "    model=\"qwen3_lora_sft_q8_0\"\n",
    ")"
   ]
  },
  {
   "cell_type": "code",
   "execution_count": 62,
   "id": "81e8a7ab",
   "metadata": {},
   "outputs": [],
   "source": [
    "responses = llm.invoke([SystemMessage(content=\"消息分类为 search、rag、chat、other 中的一类，只输出标签。\"), HumanMessage(content=\"有关怎么跟姓交的新技术有哪些？\")])\n"
   ]
  },
  {
   "cell_type": "code",
   "execution_count": 63,
   "id": "9e71b624",
   "metadata": {},
   "outputs": [
    {
     "name": "stdout",
     "output_type": "stream",
     "text": [
      "search\n"
     ]
    }
   ],
   "source": [
    "response = responses.content.split(\"\\n\")[-1]\n",
    "print(response)"
   ]
  }
 ],
 "metadata": {
  "kernelspec": {
   "display_name": ".venv",
   "language": "python",
   "name": "python3"
  },
  "language_info": {
   "codemirror_mode": {
    "name": "ipython",
    "version": 3
   },
   "file_extension": ".py",
   "mimetype": "text/x-python",
   "name": "python",
   "nbconvert_exporter": "python",
   "pygments_lexer": "ipython3",
   "version": "3.11.9"
  }
 },
 "nbformat": 4,
 "nbformat_minor": 5
}
